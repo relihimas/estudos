{
  "nbformat": 4,
  "nbformat_minor": 0,
  "metadata": {
    "colab": {
      "name": "Recife.ipynb",
      "provenance": [],
      "collapsed_sections": [
        "E4nz-HQ-JJ2w",
        "wCPx83yhB_Do"
      ],
      "toc_visible": true,
      "authorship_tag": "ABX9TyPcH1Tfu/UXDydG74oYgp4X",
      "include_colab_link": true
    },
    "kernelspec": {
      "name": "python3",
      "display_name": "Python 3"
    }
  },
  "cells": [
    {
      "cell_type": "markdown",
      "metadata": {
        "id": "view-in-github",
        "colab_type": "text"
      },
      "source": [
        "<a href=\"https://colab.research.google.com/github/relihimas/raks/blob/master/Recife.ipynb\" target=\"_parent\"><img src=\"https://colab.research.google.com/assets/colab-badge.svg\" alt=\"Open In Colab\"/></a>"
      ]
    },
    {
      "cell_type": "markdown",
      "metadata": {
        "id": "CtlzXjZyAcwJ",
        "colab_type": "text"
      },
      "source": [
        "# **Análise sobre Receitas e Despesas da Prefeitura do Recife de 2002 a 2019**\n"
      ]
    },
    {
      "cell_type": "markdown",
      "metadata": {
        "id": "cwghmPBYAwNA",
        "colab_type": "text"
      },
      "source": [
        "Recife, fundada em 12 de Março de 1537, é a capital do Estado de Pernambuco. Possui cerca de 1.645.727 habitantes (segundo senso IBGE de 2019), é o nono maior município brasileiro acima de cem mil habitantes, oitavo maior na lista de cem mais populosos e quadragésimo sexto em área urbana (142.348 km²). Com o apelido de Veneza Brasileira, Recife é uma cidade de rica cultura, histórias, gastronomia e gente, sendo considerada a capital do Nordeste.\n",
        "\n",
        "Sua economia é baseada no Turismo, Comércio, Serviços e Indústria. Possui um dos maiores polos de tecnologia do país, conhecido como Porto Digital, onde abriga várias empresas de tecnologia. (continuar)"
      ]
    },
    {
      "cell_type": "markdown",
      "metadata": {
        "id": "0dKh_yKxBi1Z",
        "colab_type": "text"
      },
      "source": [
        "Através da análise dos dados disponibilizados pela própria prefeitura e outras instituições públicas, queremos destacar alguns pontos, positivos e/ou negativos, além de outras informações provenientes que possam gerar novas perspectivas para gestores e cidadãos, analisando a seguinte questão:\n",
        "\n",
        "As receitas previstas e arrecadadas pela Prefeitura do Recife, de 2002 a 2019, impactaram positivamente ou negativamente com as taxas de crescimento do PIB da cidade, redução do desemprego e ajuste salarial da população? "
      ]
    },
    {
      "cell_type": "code",
      "metadata": {
        "id": "qOzT0dk4XOm5",
        "colab_type": "code",
        "colab": {}
      },
      "source": [
        "import pandas as pd\n",
        "from matplotlib import pyplot as plt\n",
        "from matplotlib.pyplot import figure\n",
        "plt.style.use('ggplot')\n",
        "import numpy as np"
      ],
      "execution_count": 0,
      "outputs": []
    },
    {
      "cell_type": "markdown",
      "metadata": {
        "id": "lr_61w8yCINY",
        "colab_type": "text"
      },
      "source": [
        "# **Receitas (2002 a 2019)**"
      ]
    },
    {
      "cell_type": "code",
      "metadata": {
        "id": "Q2cOLqmuC56w",
        "colab_type": "code",
        "colab": {}
      },
      "source": [
        "# Importando a base de dados referente às Receitas\n",
        "rec = pd.read_csv('agregado.csv', sep=';', encoding='latin-1', usecols = ['ano',  'fonte_origem_receita_nome', 'receita_prevista', 'receita_prevista_acrescimo', 'receita_prevista_atualizada', 'receita_arrecadada'])"
      ],
      "execution_count": 0,
      "outputs": []
    },
    {
      "cell_type": "code",
      "metadata": {
        "id": "_opRYnjjDxe4",
        "colab_type": "code",
        "outputId": "4374118c-ff01-4abe-b6b6-7b00b6144537",
        "colab": {
          "base_uri": "https://localhost:8080/",
          "height": 119
        }
      },
      "source": [
        "# Verificando quais colunas iremos usar e recarregar a base\n",
        "rec.columns.to_list()"
      ],
      "execution_count": 6,
      "outputs": [
        {
          "output_type": "execute_result",
          "data": {
            "text/plain": [
              "['ano',\n",
              " 'fonte_origem_receita_nome',\n",
              " 'receita_prevista',\n",
              " 'receita_prevista_acrescimo',\n",
              " 'receita_prevista_atualizada',\n",
              " 'receita_arrecadada']"
            ]
          },
          "metadata": {
            "tags": []
          },
          "execution_count": 6
        }
      ]
    },
    {
      "cell_type": "code",
      "metadata": {
        "id": "lGuiYWi9EhLB",
        "colab_type": "code",
        "outputId": "01d20f33-2706-424c-9d0b-6c461c7f16c1",
        "colab": {
          "base_uri": "https://localhost:8080/",
          "height": 204
        }
      },
      "source": [
        "# Verificando quais tipos de dados tempos na nossa base\n",
        "rec.info()"
      ],
      "execution_count": 20,
      "outputs": [
        {
          "output_type": "stream",
          "text": [
            "<class 'pandas.core.frame.DataFrame'>\n",
            "RangeIndex: 65483 entries, 0 to 65482\n",
            "Data columns (total 6 columns):\n",
            "ano                            65483 non-null int64\n",
            "fonte_origem_receita_nome      65483 non-null object\n",
            "receita_prevista               65483 non-null int64\n",
            "receita_prevista_acrescimo     65483 non-null float64\n",
            "receita_prevista_atualizada    65483 non-null float64\n",
            "receita_arrecadada             65483 non-null int64\n",
            "dtypes: float64(2), int64(3), object(1)\n",
            "memory usage: 3.0+ MB\n"
          ],
          "name": "stdout"
        }
      ]
    },
    {
      "cell_type": "code",
      "metadata": {
        "id": "Tfo7s07iITQ5",
        "colab_type": "code",
        "colab": {}
      },
      "source": [
        "# transformando ano em string\n",
        "rec.ano = rec.ano.astype('str')"
      ],
      "execution_count": 0,
      "outputs": []
    },
    {
      "cell_type": "code",
      "metadata": {
        "id": "qjwbpJTZDvgo",
        "colab_type": "code",
        "outputId": "eb9bec0b-30b2-41e2-d375-48b4178fde2f",
        "colab": {
          "base_uri": "https://localhost:8080/",
          "height": 136
        }
      },
      "source": [
        "# Verificando a quantidade de células vazias\n",
        "rec.isnull().sum()"
      ],
      "execution_count": 22,
      "outputs": [
        {
          "output_type": "execute_result",
          "data": {
            "text/plain": [
              "ano                            0\n",
              "fonte_origem_receita_nome      0\n",
              "receita_prevista               0\n",
              "receita_prevista_acrescimo     0\n",
              "receita_prevista_atualizada    0\n",
              "receita_arrecadada             0\n",
              "dtype: int64"
            ]
          },
          "metadata": {
            "tags": []
          },
          "execution_count": 22
        }
      ]
    },
    {
      "cell_type": "code",
      "metadata": {
        "id": "pHaSt48eDtmH",
        "colab_type": "code",
        "outputId": "32124b91-4d78-449a-84eb-5a6ca2a98c7f",
        "colab": {
          "base_uri": "https://localhost:8080/",
          "height": 136
        }
      },
      "source": [
        "# receita prevista\n",
        "gp1 = rec.groupby(by='ano')['receita_prevista'].sum()\n",
        "gp1 = gp1.reset_index()\n",
        "gp1.info()"
      ],
      "execution_count": 23,
      "outputs": [
        {
          "output_type": "stream",
          "text": [
            "<class 'pandas.core.frame.DataFrame'>\n",
            "RangeIndex: 18 entries, 0 to 17\n",
            "Data columns (total 2 columns):\n",
            "ano                 18 non-null object\n",
            "receita_prevista    18 non-null int64\n",
            "dtypes: int64(1), object(1)\n",
            "memory usage: 416.0+ bytes\n"
          ],
          "name": "stdout"
        }
      ]
    },
    {
      "cell_type": "code",
      "metadata": {
        "id": "rkNWCKTKHdhQ",
        "colab_type": "code",
        "outputId": "ba04e505-1b95-4c0f-b6e9-44d3de8c68f7",
        "colab": {
          "base_uri": "https://localhost:8080/",
          "height": 136
        }
      },
      "source": [
        "# receita arrecadada\n",
        "gp2 = rec.groupby(by='ano')['receita_arrecadada'].sum()\n",
        "gp2 = gp2.reset_index()\n",
        "gp2.info()"
      ],
      "execution_count": 24,
      "outputs": [
        {
          "output_type": "stream",
          "text": [
            "<class 'pandas.core.frame.DataFrame'>\n",
            "RangeIndex: 18 entries, 0 to 17\n",
            "Data columns (total 2 columns):\n",
            "ano                   18 non-null object\n",
            "receita_arrecadada    18 non-null int64\n",
            "dtypes: int64(1), object(1)\n",
            "memory usage: 416.0+ bytes\n"
          ],
          "name": "stdout"
        }
      ]
    },
    {
      "cell_type": "code",
      "metadata": {
        "id": "F1MhyRJpHh9X",
        "colab_type": "code",
        "outputId": "4ca1b5cd-be76-442f-b6db-5e3fb59bf8a4",
        "colab": {
          "base_uri": "https://localhost:8080/",
          "height": 136
        }
      },
      "source": [
        "# receita atualizada\n",
        "gp3 = rec.groupby(by='ano')['receita_prevista_atualizada'].sum()\n",
        "gp3 = gp3.reset_index()\n",
        "gp3.info()"
      ],
      "execution_count": 25,
      "outputs": [
        {
          "output_type": "stream",
          "text": [
            "<class 'pandas.core.frame.DataFrame'>\n",
            "RangeIndex: 18 entries, 0 to 17\n",
            "Data columns (total 2 columns):\n",
            "ano                            18 non-null object\n",
            "receita_prevista_atualizada    18 non-null float64\n",
            "dtypes: float64(1), object(1)\n",
            "memory usage: 416.0+ bytes\n"
          ],
          "name": "stdout"
        }
      ]
    },
    {
      "cell_type": "code",
      "metadata": {
        "id": "8rmZ0OKnHqzY",
        "colab_type": "code",
        "outputId": "ee18f92a-848e-41b9-f58e-ba8d7d8ee445",
        "colab": {
          "base_uri": "https://localhost:8080/",
          "height": 570
        }
      },
      "source": [
        "figure(num=None, figsize=(10, 8), dpi=80, facecolor='w', edgecolor='k')\n",
        "plt.plot(gp1['ano'], gp1['receita_prevista'], label='Previsto', color = 'blue')\n",
        "plt.plot(gp2['ano'], gp2['receita_arrecadada'], label='Arrecadado',color = 'red')\n",
        "plt.plot(gp3['ano'], gp3['receita_prevista_atualizada'], label='Previsto Atualizado', color = 'orange')\n",
        "plt.legend(['Previsto', 'Arrecadado','Previsto Atualizado'])\n",
        "plt.title('Receita Prevista e Arrecadada 2002-2019')\n",
        "plt.ylabel('Receita(em bilhões de Reais)')\n",
        "plt.xlabel('Ano')\n",
        "plt.show()"
      ],
      "execution_count": 26,
      "outputs": [
        {
          "output_type": "display_data",
          "data": {
            "image/png": "[encoded data removed]",
            "text/plain": [
              "<Figure size 800x640 with 1 Axes>"
            ]
          },
          "metadata": {
            "tags": []
          }
        }
      ]
    },
    {
      "cell_type": "markdown",
      "metadata": {
        "id": "E4nz-HQ-JJ2w",
        "colab_type": "text"
      },
      "source": [
        "## **Comparativo das Fontes entre Previsto e Arrecadado**"
      ]
    },
    {
      "cell_type": "code",
      "metadata": {
        "id": "22t5l-_qJtVQ",
        "colab_type": "code",
        "colab": {}
      },
      "source": [
        "# Receita arrecadada por fonte\n",
        "gp4 = rec.groupby(by='fonte_origem_receita_nome')['receita_arrecadada'].sum()\n",
        "gp4 = gp4.reset_index()"
      ],
      "execution_count": 0,
      "outputs": []
    },
    {
      "cell_type": "code",
      "metadata": {
        "id": "S_w1JQg9J6qv",
        "colab_type": "code",
        "colab": {}
      },
      "source": [
        "# Receita prevista por fonte\n",
        "gp5 = rec.groupby(by='fonte_origem_receita_nome')['receita_prevista_atualizada'].sum()\n",
        "gp5 = gp5.reset_index()"
      ],
      "execution_count": 0,
      "outputs": []
    },
    {
      "cell_type": "code",
      "metadata": {
        "id": "1sH3Fk_pKFKg",
        "colab_type": "code",
        "colab": {}
      },
      "source": [
        "# Barchart horizontal comparativo\n",
        "fig, ax = plt.subplots(figsize=(10, 8))\n",
        "ind = np.arange(len(gp4))\n",
        "width = 0.4\n",
        "height = gp4['receita_arrecadada']\n",
        "y_pos = gp4['fonte_origem_receita_nome']\n",
        "y_pos2 = gp5['fonte_origem_receita_nome']\n",
        "height2 = gp5['receita_prevista_atualizada']\n",
        "ax.barh(ind, height, width, color='orange', label='Arrecadado')\n",
        "ax.barh(ind + width, height2, width, color='blue', label='Previsto')\n",
        "ax.set(yticks=ind + width, yticklabels=y_pos, ylim=[2*width - 1, len(gp4)])\n",
        "ax.legend()\n",
        "plt.xlabel('Receitas(em bilhões de reais)')\n",
        "plt.title('Ranking: Fontes x Receitas Previstas x Arrecadadas (2002 a 2019)')\n",
        "plt.show()"
      ],
      "execution_count": 0,
      "outputs": []
    },
    {
      "cell_type": "markdown",
      "metadata": {
        "id": "QTV7eSuF9icI",
        "colab_type": "text"
      },
      "source": [
        "Ações recomendadas para melhoria:\n",
        "\n",
        "1 - Dividir as previsões e arrecadações de Receitas, por bairro. Tendo uma maior granularidade para criar ações mais assertivas e individuais."
      ]
    },
    {
      "cell_type": "code",
      "metadata": {
        "id": "fNLYb0IERVzm",
        "colab_type": "code",
        "colab": {}
      },
      "source": [
        ""
      ],
      "execution_count": 0,
      "outputs": []
    },
    {
      "cell_type": "markdown",
      "metadata": {
        "id": "wCPx83yhB_Do",
        "colab_type": "text"
      },
      "source": [
        "# **PIB (2002 a 2017)**"
      ]
    },
    {
      "cell_type": "code",
      "metadata": {
        "id": "2AfRuiTYX_RK",
        "colab_type": "code",
        "colab": {}
      },
      "source": [
        "# carregando a base referente ao pib\n",
        "pib = pd.read_csv('PIBRecife.csv', sep = ';', encoding = 'latin-1')"
      ],
      "execution_count": 0,
      "outputs": []
    },
    {
      "cell_type": "code",
      "metadata": {
        "id": "A0HBlV03ayRB",
        "colab_type": "code",
        "outputId": "c1149be2-53e8-4326-e963-b0ac8003d00c",
        "colab": {
          "base_uri": "https://localhost:8080/",
          "height": 153
        }
      },
      "source": [
        "# info da base\n",
        "pib.info()"
      ],
      "execution_count": 0,
      "outputs": [
        {
          "output_type": "stream",
          "text": [
            "<class 'pandas.core.frame.DataFrame'>\n",
            "RangeIndex: 16 entries, 0 to 15\n",
            "Data columns (total 3 columns):\n",
            "Ano                  16 non-null int64\n",
            "Nome do Município    16 non-null object\n",
            "PIB                  16 non-null float64\n",
            "dtypes: float64(1), int64(1), object(1)\n",
            "memory usage: 512.0+ bytes\n"
          ],
          "name": "stdout"
        }
      ]
    },
    {
      "cell_type": "code",
      "metadata": {
        "id": "JsuGEc7ka4bx",
        "colab_type": "code",
        "colab": {}
      },
      "source": [
        "# realizando alterações de tipo\n",
        "pib.Ano = pib.Ano.astype('str')\n",
        "pib.PIB = pib.PIB.astype('float64')"
      ],
      "execution_count": 0,
      "outputs": []
    },
    {
      "cell_type": "code",
      "metadata": {
        "id": "ynRswKsHZiay",
        "colab_type": "code",
        "outputId": "63bee05d-e6ff-49a0-c501-e8a06b0c9ce1",
        "colab": {
          "base_uri": "https://localhost:8080/",
          "height": 587
        }
      },
      "source": [
        "# gráfico\n",
        "figure(num=None, figsize=(10, 8), dpi=80, facecolor='w', edgecolor='k')\n",
        "plt.plot(pib['Ano'], pib['PIB'], linewidth=3)\n",
        "plt.bar(gp1['ano'], gp1['receita_prevista'], label='Previsto', color = 'blue')\n",
        "plt.title('Produto Interno Bruto - Recife - 2002-2017')\n",
        "plt.ylabel('PIB(em milhões de Reais)')\n",
        "plt.xlabel('Ano')"
      ],
      "execution_count": 0,
      "outputs": [
        {
          "output_type": "execute_result",
          "data": {
            "text/plain": [
              "Text(0.5, 0, 'Ano')"
            ]
          },
          "metadata": {
            "tags": []
          },
          "execution_count": 75
        },
        {
          "output_type": "display_data",
          "data": {
            "image/png": "[encoded data removed]",
            "text/plain": [
              "<Figure size 800x640 with 1 Axes>"
            ]
          },
          "metadata": {
            "tags": []
          }
        }
      ]
    },
    {
      "cell_type": "code",
      "metadata": {
        "id": "VIRdoeuAfQgO",
        "colab_type": "code",
        "colab": {}
      },
      "source": [
        ""
      ],
      "execution_count": 0,
      "outputs": []
    },
    {
      "cell_type": "markdown",
      "metadata": {
        "id": "jcz7-AacSH71",
        "colab_type": "text"
      },
      "source": [
        "# **Despesas (2002 a 2019)**\n",
        "\n"
      ]
    },
    {
      "cell_type": "markdown",
      "metadata": {
        "colab_type": "text",
        "id": "ghzEM5BYaaxQ"
      },
      "source": [
        "## **Uso de Machine Learning para Previsão e Arrecadação nos próximos 5 anos**"
      ]
    },
    {
      "cell_type": "markdown",
      "metadata": {
        "colab_type": "text",
        "id": "Nzh36r09aaxP"
      },
      "source": [
        "Iremos, por meio da Regressão Linear, prever para os próximos 5 anos a previsão de arrecadação e sua efetiva arrecadação, assim, podemos dar uma visão antecipada ao leitor e indicar medidas de ação para as despesas não comprometerem o caixa de maneira alarmante."
      ]
    },
    {
      "cell_type": "code",
      "metadata": {
        "colab_type": "code",
        "id": "4tZkcqKQaaxN",
        "colab": {}
      },
      "source": [
        "from sklearn.linear_model import LinearRegression\n",
        "from sklearn.model_selection import train_test_split\n",
        "from sklearn.metrics import mean_squared_error"
      ],
      "execution_count": 0,
      "outputs": []
    },
    {
      "cell_type": "code",
      "metadata": {
        "colab_type": "code",
        "id": "OF7uMZMDaaxJ",
        "colab": {}
      },
      "source": [
        "treino = rec.groupby(by='ano')['receita_prevista_atualizada'].sum()\n",
        "treino = treino.reset_index()"
      ],
      "execution_count": 0,
      "outputs": []
    },
    {
      "cell_type": "code",
      "metadata": {
        "colab_type": "code",
        "outputId": "7dc44091-97e1-47bd-cf17-37768f6e7b92",
        "id": "W5i0XuNDaaxH",
        "colab": {
          "base_uri": "https://localhost:8080/",
          "height": 204
        }
      },
      "source": [
        "treino.head()"
      ],
      "execution_count": 75,
      "outputs": [
        {
          "output_type": "execute_result",
          "data": {
            "text/html": [
              "<div>\n",
              "<style scoped>\n",
              "    .dataframe tbody tr th:only-of-type {\n",
              "        vertical-align: middle;\n",
              "    }\n",
              "\n",
              "    .dataframe tbody tr th {\n",
              "        vertical-align: top;\n",
              "    }\n",
              "\n",
              "    .dataframe thead th {\n",
              "        text-align: right;\n",
              "    }\n",
              "</style>\n",
              "<table border=\"1\" class=\"dataframe\">\n",
              "  <thead>\n",
              "    <tr style=\"text-align: right;\">\n",
              "      <th></th>\n",
              "      <th>ano</th>\n",
              "      <th>receita_prevista_atualizada</th>\n",
              "    </tr>\n",
              "  </thead>\n",
              "  <tbody>\n",
              "    <tr>\n",
              "      <th>0</th>\n",
              "      <td>2002</td>\n",
              "      <td>9.900611e+08</td>\n",
              "    </tr>\n",
              "    <tr>\n",
              "      <th>1</th>\n",
              "      <td>2003</td>\n",
              "      <td>1.137602e+09</td>\n",
              "    </tr>\n",
              "    <tr>\n",
              "      <th>2</th>\n",
              "      <td>2004</td>\n",
              "      <td>1.438080e+09</td>\n",
              "    </tr>\n",
              "    <tr>\n",
              "      <th>3</th>\n",
              "      <td>2005</td>\n",
              "      <td>1.535440e+09</td>\n",
              "    </tr>\n",
              "    <tr>\n",
              "      <th>4</th>\n",
              "      <td>2006</td>\n",
              "      <td>1.764198e+09</td>\n",
              "    </tr>\n",
              "  </tbody>\n",
              "</table>\n",
              "</div>"
            ],
            "text/plain": [
              "    ano  receita_prevista_atualizada\n",
              "0  2002                 9.900611e+08\n",
              "1  2003                 1.137602e+09\n",
              "2  2004                 1.438080e+09\n",
              "3  2005                 1.535440e+09\n",
              "4  2006                 1.764198e+09"
            ]
          },
          "metadata": {
            "tags": []
          },
          "execution_count": 75
        }
      ]
    },
    {
      "cell_type": "code",
      "metadata": {
        "colab_type": "code",
        "outputId": "8d73e500-c650-4442-a22a-e8272f437a4d",
        "id": "oKU4mFryaaxF",
        "colab": {
          "base_uri": "https://localhost:8080/",
          "height": 34
        }
      },
      "source": [
        "treino.shape"
      ],
      "execution_count": 0,
      "outputs": [
        {
          "output_type": "execute_result",
          "data": {
            "text/plain": [
              "(18, 2)"
            ]
          },
          "metadata": {
            "tags": []
          },
          "execution_count": 45
        }
      ]
    },
    {
      "cell_type": "code",
      "metadata": {
        "colab_type": "code",
        "id": "6CJ6Cr_CaaxC",
        "colab": {}
      },
      "source": [
        "y = rec.groupby(by='ano')['receita_arrecadada'].sum()"
      ],
      "execution_count": 0,
      "outputs": []
    },
    {
      "cell_type": "code",
      "metadata": {
        "colab_type": "code",
        "outputId": "89a5ed60-8faf-474c-b490-3e93eaae71e8",
        "id": "joAAE4M5aaw_",
        "colab": {
          "base_uri": "https://localhost:8080/",
          "height": 34
        }
      },
      "source": [
        "y.shape"
      ],
      "execution_count": 0,
      "outputs": [
        {
          "output_type": "execute_result",
          "data": {
            "text/plain": [
              "(18,)"
            ]
          },
          "metadata": {
            "tags": []
          },
          "execution_count": 47
        }
      ]
    },
    {
      "cell_type": "code",
      "metadata": {
        "colab_type": "code",
        "outputId": "1ad618eb-fe5f-47fe-c32b-70c8a5115d82",
        "id": "ZR2Pv6Kxaaw9",
        "colab": {
          "base_uri": "https://localhost:8080/",
          "height": 136
        }
      },
      "source": [
        "y.head()"
      ],
      "execution_count": 0,
      "outputs": [
        {
          "output_type": "execute_result",
          "data": {
            "text/plain": [
              "ano\n",
              "2002     944271435\n",
              "2003    1030997010\n",
              "2004    1341212490\n",
              "2005    1453414719\n",
              "2006    1686257494\n",
              "Name: receita_arrecadada, dtype: int64"
            ]
          },
          "metadata": {
            "tags": []
          },
          "execution_count": 48
        }
      ]
    },
    {
      "cell_type": "code",
      "metadata": {
        "colab_type": "code",
        "id": "ob6kbCPsaaw5",
        "colab": {}
      },
      "source": [
        "X_treino, X_teste, y_treino, y_teste = train_test_split(treino, y, random_state=42)"
      ],
      "execution_count": 0,
      "outputs": []
    },
    {
      "cell_type": "code",
      "metadata": {
        "colab_type": "code",
        "id": "Ik6YVPDsaaw0",
        "colab": {}
      },
      "source": [
        "# Cria um objeto LinearRegression.\n",
        "lr_model = LinearRegression()"
      ],
      "execution_count": 0,
      "outputs": []
    },
    {
      "cell_type": "code",
      "metadata": {
        "colab_type": "code",
        "outputId": "9d6c2933-6f8e-4fcf-93ad-421b5c588e30",
        "id": "n0B0rjMPaaww",
        "colab": {
          "base_uri": "https://localhost:8080/",
          "height": 34
        }
      },
      "source": [
        "# Treinando o algoritmo.\n",
        "lr_model.fit(X_treino,y_treino)"
      ],
      "execution_count": 79,
      "outputs": [
        {
          "output_type": "execute_result",
          "data": {
            "text/plain": [
              "LinearRegression(copy_X=True, fit_intercept=True, n_jobs=None, normalize=False)"
            ]
          },
          "metadata": {
            "tags": []
          },
          "execution_count": 79
        }
      ]
    },
    {
      "cell_type": "code",
      "metadata": {
        "colab_type": "code",
        "outputId": "788d8df7-685f-4dd5-ac22-03af31dc87a0",
        "id": "9nI3Vwidaawq",
        "colab": {
          "base_uri": "https://localhost:8080/",
          "height": 34
        }
      },
      "source": [
        "# Visualizando os pesos\n",
        "lr_model.coef_"
      ],
      "execution_count": 80,
      "outputs": [
        {
          "output_type": "execute_result",
          "data": {
            "text/plain": [
              "array([2.08498998e+08, 1.56898186e-01])"
            ]
          },
          "metadata": {
            "tags": []
          },
          "execution_count": 80
        }
      ]
    },
    {
      "cell_type": "code",
      "metadata": {
        "colab_type": "code",
        "outputId": "75cb8433-d55b-42f5-f08d-0e3ea3ee9ee3",
        "id": "_ZejZGrFaawm",
        "colab": {
          "base_uri": "https://localhost:8080/",
          "height": 51
        }
      },
      "source": [
        "# Predizendo\n",
        "resultado = lr_model.predict(X_teste)\n",
        "resultado"
      ],
      "execution_count": 81,
      "outputs": [
        {
          "output_type": "execute_result",
          "data": {
            "text/plain": [
              "array([7.41729570e+08, 9.73377523e+08, 2.66935446e+09, 1.93379555e+09,\n",
              "       1.45279554e+09])"
            ]
          },
          "metadata": {
            "tags": []
          },
          "execution_count": 81
        }
      ]
    },
    {
      "cell_type": "code",
      "metadata": {
        "colab_type": "code",
        "outputId": "7dd991e9-1144-4c31-a655-381ed4e23fe4",
        "id": "-jnu_1cGaawe",
        "colab": {
          "base_uri": "https://localhost:8080/",
          "height": 34
        }
      },
      "source": [
        "mean_squared_error(y_teste, lr_model.predict(X_teste))"
      ],
      "execution_count": 82,
      "outputs": [
        {
          "output_type": "execute_result",
          "data": {
            "text/plain": [
              "1.9352789552982348e+16"
            ]
          },
          "metadata": {
            "tags": []
          },
          "execution_count": 82
        }
      ]
    },
    {
      "cell_type": "code",
      "metadata": {
        "colab_type": "code",
        "outputId": "ec944d27-c049-4dd2-d823-80bbabaf7c65",
        "id": "vd9TUrrOaawY",
        "colab": {
          "base_uri": "https://localhost:8080/",
          "height": 34
        }
      },
      "source": [
        "RMSE = mean_squared_error(y_teste, lr_model.predict(X_teste))**0.5\n",
        "RMSE"
      ],
      "execution_count": 0,
      "outputs": [
        {
          "output_type": "execute_result",
          "data": {
            "text/plain": [
              "139114303.912223"
            ]
          },
          "metadata": {
            "tags": []
          },
          "execution_count": 54
        }
      ]
    },
    {
      "cell_type": "code",
      "metadata": {
        "colab_type": "code",
        "outputId": "d615191c-d886-4c60-90e9-ac62600aa89e",
        "id": "Ii6OQ2zjaawM",
        "colab": {
          "base_uri": "https://localhost:8080/",
          "height": 570
        }
      },
      "source": [
        "figure(num=None, figsize=(10, 8), dpi=80, facecolor='w', edgecolor='k')\n",
        "plt.plot(resultado, label='Previsto Regressão',color = 'red')\n",
        "plt.plot(y_teste, label='Previsto Real',color = 'blue')\n",
        "plt.legend(['Previsto Regressão', 'Previsto Real'])\n",
        "plt.title('Receita Prevista e Arrecadada 2020-2025')\n",
        "plt.ylabel('Receita(em bilhões de Reais)')\n",
        "plt.xlabel('Ano')\n",
        "plt.show()"
      ],
      "execution_count": 90,
      "outputs": [
        {
          "output_type": "display_data",
          "data": {
            "image/png": "[encoded data removed]",
            "text/plain": [
              "<Figure size 800x640 with 1 Axes>"
            ]
          },
          "metadata": {
            "tags": []
          }
        }
      ]
    }
  ]
}